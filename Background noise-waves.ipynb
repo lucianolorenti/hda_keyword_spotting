{
 "cells": [
  {
   "cell_type": "code",
   "execution_count": 4,
   "id": "787953e3",
   "metadata": {},
   "outputs": [],
   "source": [
    "import pickle\n",
    "import simpleaudio as sa\n",
    "from keyword_spotting.feature_extraction.utils import read_wav\n",
    "import numpy as np\n",
    "from scipy.io.wavfile import write"
   ]
  },
  {
   "cell_type": "code",
   "execution_count": 6,
   "id": "78d3cd87",
   "metadata": {},
   "outputs": [],
   "source": [
    "def add_noise(sample_rate, signal, noise_ratio=0.4):\n",
    "    noise_path = (\n",
    "        \"/home/luciano/speeech_2/_background_noise_/\" + np.random.choice(noise_files)\n",
    "    )\n",
    "    fs, data_noise = read_wav(noise_path)\n",
    "    min_length = min(data_noise.shape[0], signal.shape[0])\n",
    "    signal[:min_length] = signal[:min_length] + noise_ratio*data_noise[:min_length]\n",
    "    return sample_rate, signal\n",
    "\n",
    "noise_files = [\n",
    "    \"doing_the_dishes.wav\",\n",
    "    \"dude_miaowing.wav\",\n",
    "    \"exercise_bike.wav\",\n",
    "    \"pink_noise.wav\",\n",
    "    \"running_tap.wav\",\n",
    "    \"white_noise.wav\",\n",
    "]"
   ]
  },
  {
   "cell_type": "code",
   "execution_count": 8,
   "id": "b8d2d4d1",
   "metadata": {},
   "outputs": [],
   "source": [
    "with open('/home/luciano/speech_2/X_train.pickle', 'rb') as file:\n",
    "    wavs = pickle.load(file)"
   ]
  },
  {
   "cell_type": "code",
   "execution_count": 9,
   "id": "9d9262f5",
   "metadata": {},
   "outputs": [
    {
     "data": {
      "text/plain": [
       "35967"
      ]
     },
     "execution_count": 9,
     "metadata": {},
     "output_type": "execute_result"
    }
   ],
   "source": [
    "len(wavs)"
   ]
  },
  {
   "cell_type": "code",
   "execution_count": 10,
   "id": "9e48ed13",
   "metadata": {},
   "outputs": [
    {
     "data": {
      "text/plain": [
       "'unknown/0585b66d_nohash_1.wav'"
      ]
     },
     "execution_count": 10,
     "metadata": {},
     "output_type": "execute_result"
    }
   ],
   "source": [
    "myAudioFilename = wavs[0]"
   ]
  },
  {
   "cell_type": "code",
   "execution_count": 2,
   "id": "635aefe5",
   "metadata": {},
   "outputs": [
    {
     "name": "stdout",
     "output_type": "stream",
     "text": [
      "Collecting package metadata (current_repodata.json): done\n",
      "Solving environment: done\n",
      "\n",
      "## Package Plan ##\n",
      "\n",
      "  environment location: /Users/emi/venvs/miniforge3\n",
      "\n",
      "  added / updated specs:\n",
      "    - matplotlib\n",
      "\n",
      "\n",
      "The following packages will be downloaded:\n",
      "\n",
      "    package                    |            build\n",
      "    ---------------------------|-----------------\n",
      "    cycler-0.10.0              |             py_2           9 KB  conda-forge\n",
      "    freetype-2.10.4            |       h17b34a0_1         874 KB  conda-forge\n",
      "    jbig-2.1                   |    h3422bc3_2003          42 KB  conda-forge\n",
      "    jpeg-9d                    |       h27ca646_0         259 KB  conda-forge\n",
      "    kiwisolver-1.3.1           |   py39h5a63225_1          58 KB  conda-forge\n",
      "    lcms2-2.12                 |       had6a04f_0         369 KB  conda-forge\n",
      "    lerc-2.2.1                 |       h9f76cd9_0         140 KB  conda-forge\n",
      "    libdeflate-1.7             |       h27ca646_5          47 KB  conda-forge\n",
      "    libpng-1.6.37              |       hf7e6567_2         293 KB  conda-forge\n",
      "    libtiff-4.3.0              |       hc6122e1_1         574 KB  conda-forge\n",
      "    libwebp-base-1.2.0         |       h27ca646_2         596 KB  conda-forge\n",
      "    lz4-c-1.9.3                |       h9f76cd9_0         147 KB  conda-forge\n",
      "    matplotlib-3.4.2           |   py39hdf13c20_0           7 KB  conda-forge\n",
      "    matplotlib-base-3.4.2      |   py39h5aa4fe7_0         7.2 MB  conda-forge\n",
      "    olefile-0.46               |     pyh9f0ad1d_1          32 KB  conda-forge\n",
      "    openjpeg-2.4.0             |       h062765e_1         422 KB  conda-forge\n",
      "    pillow-8.2.0               |   py39h282ff46_1         649 KB  conda-forge\n",
      "    pyparsing-2.4.7            |     pyh9f0ad1d_0          60 KB  conda-forge\n",
      "    tornado-6.1                |   py39h46acfd9_1         651 KB  conda-forge\n",
      "    zstd-1.5.0                 |       h861e0a7_0         508 KB  conda-forge\n",
      "    ------------------------------------------------------------\n",
      "                                           Total:        12.8 MB\n",
      "\n",
      "The following NEW packages will be INSTALLED:\n",
      "\n",
      "  cycler             conda-forge/noarch::cycler-0.10.0-py_2\n",
      "  freetype           conda-forge/osx-arm64::freetype-2.10.4-h17b34a0_1\n",
      "  jbig               conda-forge/osx-arm64::jbig-2.1-h3422bc3_2003\n",
      "  jpeg               conda-forge/osx-arm64::jpeg-9d-h27ca646_0\n",
      "  kiwisolver         conda-forge/osx-arm64::kiwisolver-1.3.1-py39h5a63225_1\n",
      "  lcms2              conda-forge/osx-arm64::lcms2-2.12-had6a04f_0\n",
      "  lerc               conda-forge/osx-arm64::lerc-2.2.1-h9f76cd9_0\n",
      "  libdeflate         conda-forge/osx-arm64::libdeflate-1.7-h27ca646_5\n",
      "  libpng             conda-forge/osx-arm64::libpng-1.6.37-hf7e6567_2\n",
      "  libtiff            conda-forge/osx-arm64::libtiff-4.3.0-hc6122e1_1\n",
      "  libwebp-base       conda-forge/osx-arm64::libwebp-base-1.2.0-h27ca646_2\n",
      "  lz4-c              conda-forge/osx-arm64::lz4-c-1.9.3-h9f76cd9_0\n",
      "  matplotlib         conda-forge/osx-arm64::matplotlib-3.4.2-py39hdf13c20_0\n",
      "  matplotlib-base    conda-forge/osx-arm64::matplotlib-base-3.4.2-py39h5aa4fe7_0\n",
      "  olefile            conda-forge/noarch::olefile-0.46-pyh9f0ad1d_1\n",
      "  openjpeg           conda-forge/osx-arm64::openjpeg-2.4.0-h062765e_1\n",
      "  pillow             conda-forge/osx-arm64::pillow-8.2.0-py39h282ff46_1\n",
      "  pyparsing          conda-forge/noarch::pyparsing-2.4.7-pyh9f0ad1d_0\n",
      "  tornado            conda-forge/osx-arm64::tornado-6.1-py39h46acfd9_1\n",
      "  zstd               conda-forge/osx-arm64::zstd-1.5.0-h861e0a7_0\n",
      "\n",
      "\n",
      "\n",
      "Downloading and Extracting Packages\n",
      "libwebp-base-1.2.0   | 596 KB    | ##################################### | 100% \n",
      "libpng-1.6.37        | 293 KB    | ##################################### | 100% \n",
      "freetype-2.10.4      | 874 KB    | ##################################### | 100% \n",
      "openjpeg-2.4.0       | 422 KB    | ##################################### | 100% \n",
      "tornado-6.1          | 651 KB    | ##################################### | 100% \n",
      "lz4-c-1.9.3          | 147 KB    | ##################################### | 100% \n",
      "pillow-8.2.0         | 649 KB    | ##################################### | 100% \n",
      "zstd-1.5.0           | 508 KB    | ##################################### | 100% \n",
      "matplotlib-base-3.4. | 7.2 MB    | ##################################### | 100% \n",
      "kiwisolver-1.3.1     | 58 KB     | ##################################### | 100% \n",
      "olefile-0.46         | 32 KB     | ##################################### | 100% \n",
      "pyparsing-2.4.7      | 60 KB     | ##################################### | 100% \n",
      "jbig-2.1             | 42 KB     | ##################################### | 100% \n",
      "lerc-2.2.1           | 140 KB    | ##################################### | 100% \n",
      "libtiff-4.3.0        | 574 KB    | ##################################### | 100% \n",
      "jpeg-9d              | 259 KB    | ##################################### | 100% \n",
      "lcms2-2.12           | 369 KB    | ##################################### | 100% \n",
      "matplotlib-3.4.2     | 7 KB      | ##################################### | 100% \n",
      "cycler-0.10.0        | 9 KB      | ##################################### | 100% \n",
      "libdeflate-1.7       | 47 KB     | ##################################### | 100% \n",
      "Preparing transaction: done\n",
      "Verifying transaction: done\n",
      "Executing transaction: done\n",
      "\n",
      "Note: you may need to restart the kernel to use updated packages.\n"
     ]
    }
   ],
   "source": [
    "conda install matplotlib"
   ]
  },
  {
   "cell_type": "code",
   "execution_count": 4,
   "id": "4c57fdfd",
   "metadata": {},
   "outputs": [
    {
     "ename": "NameError",
     "evalue": "name 'myAudioFilename' is not defined",
     "output_type": "error",
     "traceback": [
      "\u001b[0;31m---------------------------------------------------------------------------\u001b[0m",
      "\u001b[0;31mNameError\u001b[0m                                 Traceback (most recent call last)",
      "\u001b[0;32m<ipython-input-4-46cc5b831ab1>\u001b[0m in \u001b[0;36m<module>\u001b[0;34m\u001b[0m\n\u001b[1;32m      6\u001b[0m \u001b[0;34m\u001b[0m\u001b[0m\n\u001b[1;32m      7\u001b[0m \u001b[0;34m\u001b[0m\u001b[0m\n\u001b[0;32m----> 8\u001b[0;31m \u001b[0msampleRate\u001b[0m\u001b[0;34m,\u001b[0m \u001b[0maudioBuffer\u001b[0m \u001b[0;34m=\u001b[0m \u001b[0mscipy\u001b[0m\u001b[0;34m.\u001b[0m\u001b[0mio\u001b[0m\u001b[0;34m.\u001b[0m\u001b[0mwavfile\u001b[0m\u001b[0;34m.\u001b[0m\u001b[0mread\u001b[0m\u001b[0;34m(\u001b[0m\u001b[0mmyAudioFilename\u001b[0m\u001b[0;34m)\u001b[0m\u001b[0;34m\u001b[0m\u001b[0;34m\u001b[0m\u001b[0m\n\u001b[0m\u001b[1;32m      9\u001b[0m \u001b[0;34m\u001b[0m\u001b[0m\n\u001b[1;32m     10\u001b[0m \u001b[0mduration\u001b[0m \u001b[0;34m=\u001b[0m \u001b[0mlen\u001b[0m\u001b[0;34m(\u001b[0m\u001b[0maudioBuffer\u001b[0m\u001b[0;34m)\u001b[0m\u001b[0;34m/\u001b[0m\u001b[0msampleRate\u001b[0m\u001b[0;34m\u001b[0m\u001b[0;34m\u001b[0m\u001b[0m\n",
      "\u001b[0;31mNameError\u001b[0m: name 'myAudioFilename' is not defined"
     ]
    }
   ],
   "source": [
    "import os\n",
    "import scipy.io\n",
    "import scipy.io.wavfile\n",
    "import numpy as np\n",
    "import matplotlib.pyplot as plt\n",
    "\n",
    "\n",
    "sampleRate, audioBuffer = scipy.io.wavfile.read(myAudioFilename)\n",
    "\n",
    "duration = len(audioBuffer)/sampleRate\n",
    "\n",
    "time = np.arange(0,duration,1/sampleRate) #time vector\n",
    "\n",
    "plt.plot(time,audioBuffer)\n",
    "plt.xlabel('Time [s]')\n",
    "plt.ylabel('Amplitude')\n",
    "plt.title(myAudioFilename)\n",
    "plt.show()"
   ]
  },
  {
   "cell_type": "code",
   "execution_count": 12,
   "id": "e747a16e",
   "metadata": {},
   "outputs": [
    {
     "ename": "SimpleaudioError",
     "evalue": "Error opening PCM device. -- CODE: -16 -- MSG: Device or resource busy",
     "output_type": "error",
     "traceback": [
      "\u001b[0;31m---------------------------------------------------------------------------\u001b[0m",
      "\u001b[0;31mSimpleaudioError\u001b[0m                          Traceback (most recent call last)",
      "\u001b[0;32m<ipython-input-12-a737239ea81f>\u001b[0m in \u001b[0;36m<module>\u001b[0;34m\u001b[0m\n\u001b[1;32m      1\u001b[0m \u001b[0mfilename\u001b[0m \u001b[0;34m=\u001b[0m \u001b[0;34mf'/home/luciano/speech_2/{wavs[0]}'\u001b[0m\u001b[0;34m\u001b[0m\u001b[0;34m\u001b[0m\u001b[0m\n\u001b[1;32m      2\u001b[0m \u001b[0mwave_obj\u001b[0m \u001b[0;34m=\u001b[0m \u001b[0msa\u001b[0m\u001b[0;34m.\u001b[0m\u001b[0mWaveObject\u001b[0m\u001b[0;34m.\u001b[0m\u001b[0mfrom_wave_file\u001b[0m\u001b[0;34m(\u001b[0m\u001b[0mfilename\u001b[0m\u001b[0;34m)\u001b[0m\u001b[0;34m\u001b[0m\u001b[0;34m\u001b[0m\u001b[0m\n\u001b[0;32m----> 3\u001b[0;31m \u001b[0mplay_obj\u001b[0m \u001b[0;34m=\u001b[0m \u001b[0mwave_obj\u001b[0m\u001b[0;34m.\u001b[0m\u001b[0mplay\u001b[0m\u001b[0;34m(\u001b[0m\u001b[0;34m)\u001b[0m\u001b[0;34m\u001b[0m\u001b[0;34m\u001b[0m\u001b[0m\n\u001b[0m\u001b[1;32m      4\u001b[0m \u001b[0mplay_obj\u001b[0m\u001b[0;34m.\u001b[0m\u001b[0mwait_done\u001b[0m\u001b[0;34m(\u001b[0m\u001b[0;34m)\u001b[0m  \u001b[0;31m# Wait until sound has finished playing\u001b[0m\u001b[0;34m\u001b[0m\u001b[0;34m\u001b[0m\u001b[0m\n",
      "\u001b[0;32m~/venvs/general38/lib/python3.8/site-packages/simpleaudio/shiny.py\u001b[0m in \u001b[0;36mplay\u001b[0;34m(self)\u001b[0m\n\u001b[1;32m     17\u001b[0m \u001b[0;34m\u001b[0m\u001b[0m\n\u001b[1;32m     18\u001b[0m     \u001b[0;32mdef\u001b[0m \u001b[0mplay\u001b[0m\u001b[0;34m(\u001b[0m\u001b[0mself\u001b[0m\u001b[0;34m)\u001b[0m\u001b[0;34m:\u001b[0m\u001b[0;34m\u001b[0m\u001b[0;34m\u001b[0m\u001b[0m\n\u001b[0;32m---> 19\u001b[0;31m         return play_buffer(self.audio_data, self.num_channels,\n\u001b[0m\u001b[1;32m     20\u001b[0m                            self.bytes_per_sample, self.sample_rate)\n\u001b[1;32m     21\u001b[0m \u001b[0;34m\u001b[0m\u001b[0m\n",
      "\u001b[0;32m~/venvs/general38/lib/python3.8/site-packages/simpleaudio/shiny.py\u001b[0m in \u001b[0;36mplay_buffer\u001b[0;34m(audio_data, num_channels, bytes_per_sample, sample_rate)\u001b[0m\n\u001b[1;32m     58\u001b[0m \u001b[0;34m\u001b[0m\u001b[0m\n\u001b[1;32m     59\u001b[0m \u001b[0;32mdef\u001b[0m \u001b[0mplay_buffer\u001b[0m\u001b[0;34m(\u001b[0m\u001b[0maudio_data\u001b[0m\u001b[0;34m,\u001b[0m \u001b[0mnum_channels\u001b[0m\u001b[0;34m,\u001b[0m \u001b[0mbytes_per_sample\u001b[0m\u001b[0;34m,\u001b[0m \u001b[0msample_rate\u001b[0m\u001b[0;34m)\u001b[0m\u001b[0;34m:\u001b[0m\u001b[0;34m\u001b[0m\u001b[0;34m\u001b[0m\u001b[0m\n\u001b[0;32m---> 60\u001b[0;31m     play_id = _sa._play_buffer(audio_data, num_channels, bytes_per_sample,\n\u001b[0m\u001b[1;32m     61\u001b[0m                                sample_rate)\n\u001b[1;32m     62\u001b[0m     \u001b[0;32mreturn\u001b[0m \u001b[0mPlayObject\u001b[0m\u001b[0;34m(\u001b[0m\u001b[0mplay_id\u001b[0m\u001b[0;34m)\u001b[0m\u001b[0;34m\u001b[0m\u001b[0;34m\u001b[0m\u001b[0m\n",
      "\u001b[0;31mSimpleaudioError\u001b[0m: Error opening PCM device. -- CODE: -16 -- MSG: Device or resource busy"
     ]
    }
   ],
   "source": [
    "filename = f'/home/luciano/speech_2/{wavs[0]}'\n",
    "wave_obj = sa.WaveObject.from_wave_file(filename)\n",
    "play_obj = wave_obj.play()\n",
    "play_obj.wait_done()  # Wait until sound has finished playing"
   ]
  },
  {
   "cell_type": "code",
   "execution_count": 134,
   "id": "b6ae1a87",
   "metadata": {},
   "outputs": [],
   "source": [
    "sample_rate, signal = read_wav(filename)\n",
    "sample_rate_noise, signal_noise = add_noise(sample_rate, signal, noise_ratio=0.4)\n",
    "write(\"example_noise.wav\", sample_rate_noise, signal_noise.astype(np.int16))"
   ]
  },
  {
   "cell_type": "markdown",
   "id": "3b2fcd7a",
   "metadata": {},
   "source": [
    "With noise_ratio > 5 if difficult for the human to hear the word "
   ]
  },
  {
   "cell_type": "code",
   "execution_count": 139,
   "id": "80fcc467",
   "metadata": {},
   "outputs": [],
   "source": [
    "wave_obj = sa.WaveObject.from_wave_file('example_noise.wav')\n",
    "play_obj = wave_obj.play()\n",
    "play_obj.wait_done()  # Wait until sound has finished playing"
   ]
  },
  {
   "cell_type": "code",
   "execution_count": null,
   "id": "eaa5b641",
   "metadata": {},
   "outputs": [],
   "source": []
  }
 ],
 "metadata": {
  "kernelspec": {
   "display_name": "Python 3",
   "language": "python",
   "name": "python3"
  },
  "language_info": {
   "codemirror_mode": {
    "name": "ipython",
    "version": 3
   },
   "file_extension": ".py",
   "mimetype": "text/x-python",
   "name": "python",
   "nbconvert_exporter": "python",
   "pygments_lexer": "ipython3",
   "version": "3.9.4"
  }
 },
 "nbformat": 4,
 "nbformat_minor": 5
}
