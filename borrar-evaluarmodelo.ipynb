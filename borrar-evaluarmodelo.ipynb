{
 "cells": [
  {
   "cell_type": "code",
   "execution_count": 1,
   "id": "b4785f61",
   "metadata": {},
   "outputs": [],
   "source": [
    "import pickle"
   ]
  },
  {
   "cell_type": "code",
   "execution_count": 27,
   "id": "7315ecfb",
   "metadata": {},
   "outputs": [],
   "source": [
    "from keyword_spotting import predictions as posterior_handling"
   ]
  },
  {
   "cell_type": "code",
   "execution_count": 5,
   "id": "8d5a2071",
   "metadata": {},
   "outputs": [],
   "source": [
    "FILE='../models.pickle'"
   ]
  },
  {
   "cell_type": "code",
   "execution_count": 23,
   "id": "d90143ab",
   "metadata": {},
   "outputs": [],
   "source": [
    "with open(FILE, 'rb') as f:\n",
    "    config, time, predictions = pickle.load(f)"
   ]
  },
  {
   "cell_type": "code",
   "execution_count": 24,
   "id": "69cef76d",
   "metadata": {},
   "outputs": [
    {
     "data": {
      "text/plain": [
       "{'dataset': {'path': '/Users/emi/unipd/hda/dataset/'},\n",
       " 'model': {'path': '/Users/emi/unipd/hda/models/',\n",
       "  'name': 'cnn_visiontransformer'},\n",
       " 'train': {'batch_size': 256, 'epochs': 1},\n",
       " 'output_path': '/Users/emi/unipd/hda/models/'}"
      ]
     },
     "execution_count": 24,
     "metadata": {},
     "output_type": "execute_result"
    }
   ],
   "source": [
    "config"
   ]
  },
  {
   "cell_type": "code",
   "execution_count": 25,
   "id": "e81e14ad",
   "metadata": {},
   "outputs": [
    {
     "data": {
      "text/plain": [
       "11.55268907546997"
      ]
     },
     "execution_count": 25,
     "metadata": {},
     "output_type": "execute_result"
    }
   ],
   "source": [
    "time"
   ]
  },
  {
   "cell_type": "code",
   "execution_count": 46,
   "id": "34487362",
   "metadata": {},
   "outputs": [],
   "source": [
    "x0 =0\n",
    "keyword, real_label, label_posteriors = predictions[x0]"
   ]
  },
  {
   "cell_type": "code",
   "execution_count": 33,
   "id": "10ee42a8",
   "metadata": {},
   "outputs": [
    {
     "data": {
      "text/plain": [
       "'/Users/emi/unipd/hda/dataset/right/d21fd169_nohash_0.wav'"
      ]
     },
     "execution_count": 33,
     "metadata": {},
     "output_type": "execute_result"
    }
   ],
   "source": [
    "keyword"
   ]
  },
  {
   "cell_type": "code",
   "execution_count": 47,
   "id": "f2286564",
   "metadata": {},
   "outputs": [
    {
     "data": {
      "text/plain": [
       "5"
      ]
     },
     "execution_count": 47,
     "metadata": {},
     "output_type": "execute_result"
    }
   ],
   "source": [
    "real_label"
   ]
  },
  {
   "cell_type": "code",
   "execution_count": 41,
   "id": "db0b3732",
   "metadata": {},
   "outputs": [
    {
     "data": {
      "text/plain": [
       "66"
      ]
     },
     "execution_count": 41,
     "metadata": {},
     "output_type": "execute_result"
    }
   ],
   "source": [
    "len(label_posteriors)"
   ]
  },
  {
   "cell_type": "markdown",
   "id": "46ad7ef9",
   "metadata": {},
   "source": [
    "66 frames para el audio d21fd169_nohash_0.wav"
   ]
  },
  {
   "cell_type": "code",
   "execution_count": 44,
   "id": "be8a013b",
   "metadata": {},
   "outputs": [
    {
     "data": {
      "text/plain": [
       "array([0.04185322, 0.02790751, 0.08377179, 0.12712593, 0.0780819 ,\n",
       "       0.0432311 , 0.04797652, 0.03110993, 0.06548525, 0.05302734,\n",
       "       0.02941756, 0.37101197], dtype=float32)"
      ]
     },
     "execution_count": 44,
     "metadata": {},
     "output_type": "execute_result"
    }
   ],
   "source": [
    "label_posteriors[0]"
   ]
  },
  {
   "cell_type": "markdown",
   "id": "cb27ae28",
   "metadata": {},
   "source": [
    "una prob para cada label, 12 en total. para la primer ventanita, da prioridad mas alta sobre la ultima clase la 11"
   ]
  },
  {
   "cell_type": "code",
   "execution_count": null,
   "id": "4e4661e7",
   "metadata": {},
   "outputs": [],
   "source": []
  }
 ],
 "metadata": {
  "kernelspec": {
   "display_name": "Python 3",
   "language": "python",
   "name": "python3"
  },
  "language_info": {
   "codemirror_mode": {
    "name": "ipython",
    "version": 3
   },
   "file_extension": ".py",
   "mimetype": "text/x-python",
   "name": "python",
   "nbconvert_exporter": "python",
   "pygments_lexer": "ipython3",
   "version": "3.8.10"
  }
 },
 "nbformat": 4,
 "nbformat_minor": 5
}
