{
 "cells": [
  {
   "cell_type": "code",
   "execution_count": 109,
   "id": "c43a0fef",
   "metadata": {},
   "outputs": [],
   "source": [
    "import pickle\n",
    "import numpy as np\n",
    "import tensorflow as tf\n",
    "from keyword_spotting.model import models\n",
    "import netron"
   ]
  },
  {
   "cell_type": "code",
   "execution_count": 118,
   "id": "55943eb4",
   "metadata": {},
   "outputs": [],
   "source": [
    "model_name = 'vit2010/cnn_visiontransformer_23_25_34_Jun_13_2021'\n",
    "#model_name = 'res3/cnn_residual2_19_04_14_Jun_13_2021'\n",
    "#model_name='res6/cnn_residual2_09_20_43_Jun_19_2021'\n",
    "#model_name='res9/cnn_residual2_11_28_12_Jun_19_2021'"
   ]
  },
  {
   "cell_type": "code",
   "execution_count": 21,
   "id": "da0616af",
   "metadata": {},
   "outputs": [
    {
     "name": "stdout",
     "output_type": "stream",
     "text": [
      "Serving '/Users/emi/resultadosHDA/vit2010/cnn_visiontransformer_23_25_34_Jun_13_2021.h5' at http://localhost:8080\n"
     ]
    },
    {
     "data": {
      "text/plain": [
       "('localhost', 8080)"
      ]
     },
     "execution_count": 21,
     "metadata": {},
     "output_type": "execute_result"
    }
   ],
   "source": [
    "netron.start(f'/Users/emi/resultadosHDA/{model_name}.h5')"
   ]
  },
  {
   "cell_type": "code",
   "execution_count": 119,
   "id": "4cf589a6",
   "metadata": {},
   "outputs": [],
   "source": [
    "configFILE=f'/Users/emi/resultadosHDA/{model_name}_results.pkl'\n",
    "modelFILE = f'/Users/emi/resultadosHDA/{model_name}'\n",
    "with open(configFILE, 'rb') as f:\n",
    "    config, time, predictions = pickle.load(f)"
   ]
  },
  {
   "cell_type": "code",
   "execution_count": 120,
   "id": "1b181435",
   "metadata": {},
   "outputs": [
    {
     "data": {
      "text/plain": [
       "{'model': {'name': 'cnn_visiontransformer',\n",
       "  'params': {'learning_rate': 0.001,\n",
       "   'n_dense_layer': 1,\n",
       "   'num_heads': 3,\n",
       "   'transformer_layers': 4,\n",
       "   'projection_dim': 16,\n",
       "   'patch_x': 20,\n",
       "   'patch_y': 10,\n",
       "   'dense_dropout': 0.2},\n",
       "  'windowed': False},\n",
       " 'train': {'batch_size': 64, 'epochs': 27, 'reduce_on_plateau': True}}"
      ]
     },
     "execution_count": 120,
     "metadata": {},
     "output_type": "execute_result"
    }
   ],
   "source": [
    "config"
   ]
  },
  {
   "cell_type": "code",
   "execution_count": 90,
   "id": "d4221e6d",
   "metadata": {},
   "outputs": [],
   "source": [
    "#config['model']['params']['n_residuals']=6\n",
    "config['model']['params']['patch_x']=10\n",
    "config['model']['params']['patch_y']=8"
   ]
  },
  {
   "cell_type": "code",
   "execution_count": 117,
   "id": "7bfc8e9c",
   "metadata": {},
   "outputs": [
    {
     "data": {
      "text/plain": [
       "9814.142082691193"
      ]
     },
     "execution_count": 117,
     "metadata": {},
     "output_type": "execute_result"
    }
   ],
   "source": [
    "# hour\n",
    "time/60/60\n",
    "\n",
    "time"
   ]
  },
  {
   "cell_type": "code",
   "execution_count": 113,
   "id": "9724d2ab",
   "metadata": {},
   "outputs": [
    {
     "name": "stdout",
     "output_type": "stream",
     "text": [
      "Model: \"model_20\"\n",
      "__________________________________________________________________________________________________\n",
      "Layer (type)                    Output Shape         Param #     Connected to                     \n",
      "==================================================================================================\n",
      "input_21 (InputLayer)           [(None, 100, 40)]    0                                            \n",
      "__________________________________________________________________________________________________\n",
      "lambda_20 (Lambda)              (None, 100, 40, 1)   0           input_21[0][0]                   \n",
      "__________________________________________________________________________________________________\n",
      "conv2d_77 (Conv2D)              (None, 98, 38, 19)   190         lambda_20[0][0]                  \n",
      "__________________________________________________________________________________________________\n",
      "average_pooling2d_5 (AveragePoo (None, 49, 19, 19)   0           conv2d_77[0][0]                  \n",
      "__________________________________________________________________________________________________\n",
      "conv2d_78 (Conv2D)              (None, 49, 19, 19)   3249        average_pooling2d_5[0][0]        \n",
      "__________________________________________________________________________________________________\n",
      "activation_72 (Activation)      (None, 49, 19, 19)   0           conv2d_78[0][0]                  \n",
      "__________________________________________________________________________________________________\n",
      "batch_normalization_72 (BatchNo (None, 49, 19, 19)   76          activation_72[0][0]              \n",
      "__________________________________________________________________________________________________\n",
      "conv2d_79 (Conv2D)              (None, 49, 19, 19)   3249        batch_normalization_72[0][0]     \n",
      "__________________________________________________________________________________________________\n",
      "activation_73 (Activation)      (None, 49, 19, 19)   0           conv2d_79[0][0]                  \n",
      "__________________________________________________________________________________________________\n",
      "batch_normalization_73 (BatchNo (None, 49, 19, 19)   76          activation_73[0][0]              \n",
      "__________________________________________________________________________________________________\n",
      "add_156 (Add)                   (None, 49, 19, 19)   0           average_pooling2d_5[0][0]        \n",
      "                                                                 batch_normalization_73[0][0]     \n",
      "__________________________________________________________________________________________________\n",
      "conv2d_80 (Conv2D)              (None, 49, 19, 19)   3249        add_156[0][0]                    \n",
      "__________________________________________________________________________________________________\n",
      "activation_74 (Activation)      (None, 49, 19, 19)   0           conv2d_80[0][0]                  \n",
      "__________________________________________________________________________________________________\n",
      "batch_normalization_74 (BatchNo (None, 49, 19, 19)   76          activation_74[0][0]              \n",
      "__________________________________________________________________________________________________\n",
      "conv2d_81 (Conv2D)              (None, 49, 19, 19)   3249        batch_normalization_74[0][0]     \n",
      "__________________________________________________________________________________________________\n",
      "activation_75 (Activation)      (None, 49, 19, 19)   0           conv2d_81[0][0]                  \n",
      "__________________________________________________________________________________________________\n",
      "batch_normalization_75 (BatchNo (None, 49, 19, 19)   76          activation_75[0][0]              \n",
      "__________________________________________________________________________________________________\n",
      "add_157 (Add)                   (None, 49, 19, 19)   0           add_156[0][0]                    \n",
      "                                                                 batch_normalization_75[0][0]     \n",
      "__________________________________________________________________________________________________\n",
      "conv2d_82 (Conv2D)              (None, 49, 19, 19)   3249        add_157[0][0]                    \n",
      "__________________________________________________________________________________________________\n",
      "activation_76 (Activation)      (None, 49, 19, 19)   0           conv2d_82[0][0]                  \n",
      "__________________________________________________________________________________________________\n",
      "batch_normalization_76 (BatchNo (None, 49, 19, 19)   76          activation_76[0][0]              \n",
      "__________________________________________________________________________________________________\n",
      "conv2d_83 (Conv2D)              (None, 49, 19, 19)   3249        batch_normalization_76[0][0]     \n",
      "__________________________________________________________________________________________________\n",
      "activation_77 (Activation)      (None, 49, 19, 19)   0           conv2d_83[0][0]                  \n",
      "__________________________________________________________________________________________________\n",
      "batch_normalization_77 (BatchNo (None, 49, 19, 19)   76          activation_77[0][0]              \n",
      "__________________________________________________________________________________________________\n",
      "add_158 (Add)                   (None, 49, 19, 19)   0           add_157[0][0]                    \n",
      "                                                                 batch_normalization_77[0][0]     \n",
      "__________________________________________________________________________________________________\n",
      "conv2d_84 (Conv2D)              (None, 49, 19, 19)   3249        add_158[0][0]                    \n",
      "__________________________________________________________________________________________________\n",
      "activation_78 (Activation)      (None, 49, 19, 19)   0           conv2d_84[0][0]                  \n",
      "__________________________________________________________________________________________________\n",
      "batch_normalization_78 (BatchNo (None, 49, 19, 19)   76          activation_78[0][0]              \n",
      "__________________________________________________________________________________________________\n",
      "conv2d_85 (Conv2D)              (None, 49, 19, 19)   3249        batch_normalization_78[0][0]     \n",
      "__________________________________________________________________________________________________\n",
      "activation_79 (Activation)      (None, 49, 19, 19)   0           conv2d_85[0][0]                  \n",
      "__________________________________________________________________________________________________\n",
      "batch_normalization_79 (BatchNo (None, 49, 19, 19)   76          activation_79[0][0]              \n",
      "__________________________________________________________________________________________________\n",
      "add_159 (Add)                   (None, 49, 19, 19)   0           add_158[0][0]                    \n",
      "                                                                 batch_normalization_79[0][0]     \n",
      "__________________________________________________________________________________________________\n",
      "conv2d_86 (Conv2D)              (None, 49, 19, 19)   3249        add_159[0][0]                    \n",
      "__________________________________________________________________________________________________\n",
      "activation_80 (Activation)      (None, 49, 19, 19)   0           conv2d_86[0][0]                  \n",
      "__________________________________________________________________________________________________\n",
      "batch_normalization_80 (BatchNo (None, 49, 19, 19)   76          activation_80[0][0]              \n",
      "__________________________________________________________________________________________________\n",
      "conv2d_87 (Conv2D)              (None, 49, 19, 19)   3249        batch_normalization_80[0][0]     \n",
      "__________________________________________________________________________________________________\n",
      "activation_81 (Activation)      (None, 49, 19, 19)   0           conv2d_87[0][0]                  \n",
      "__________________________________________________________________________________________________\n",
      "batch_normalization_81 (BatchNo (None, 49, 19, 19)   76          activation_81[0][0]              \n",
      "__________________________________________________________________________________________________\n",
      "add_160 (Add)                   (None, 49, 19, 19)   0           add_159[0][0]                    \n",
      "                                                                 batch_normalization_81[0][0]     \n",
      "__________________________________________________________________________________________________\n",
      "conv2d_88 (Conv2D)              (None, 49, 19, 19)   3249        add_160[0][0]                    \n",
      "__________________________________________________________________________________________________\n",
      "activation_82 (Activation)      (None, 49, 19, 19)   0           conv2d_88[0][0]                  \n",
      "__________________________________________________________________________________________________\n",
      "batch_normalization_82 (BatchNo (None, 49, 19, 19)   76          activation_82[0][0]              \n",
      "__________________________________________________________________________________________________\n",
      "conv2d_89 (Conv2D)              (None, 49, 19, 19)   3249        batch_normalization_82[0][0]     \n",
      "__________________________________________________________________________________________________\n",
      "activation_83 (Activation)      (None, 49, 19, 19)   0           conv2d_89[0][0]                  \n",
      "__________________________________________________________________________________________________\n",
      "batch_normalization_83 (BatchNo (None, 49, 19, 19)   76          activation_83[0][0]              \n",
      "__________________________________________________________________________________________________\n",
      "add_161 (Add)                   (None, 49, 19, 19)   0           add_160[0][0]                    \n",
      "                                                                 batch_normalization_83[0][0]     \n",
      "__________________________________________________________________________________________________\n",
      "conv2d_90 (Conv2D)              (None, 49, 19, 19)   3249        add_161[0][0]                    \n",
      "__________________________________________________________________________________________________\n",
      "activation_84 (Activation)      (None, 49, 19, 19)   0           conv2d_90[0][0]                  \n",
      "__________________________________________________________________________________________________\n",
      "batch_normalization_84 (BatchNo (None, 49, 19, 19)   76          activation_84[0][0]              \n",
      "__________________________________________________________________________________________________\n",
      "conv2d_91 (Conv2D)              (None, 49, 19, 19)   3249        batch_normalization_84[0][0]     \n",
      "__________________________________________________________________________________________________\n",
      "activation_85 (Activation)      (None, 49, 19, 19)   0           conv2d_91[0][0]                  \n",
      "__________________________________________________________________________________________________\n",
      "batch_normalization_85 (BatchNo (None, 49, 19, 19)   76          activation_85[0][0]              \n",
      "__________________________________________________________________________________________________\n",
      "add_162 (Add)                   (None, 49, 19, 19)   0           add_161[0][0]                    \n",
      "                                                                 batch_normalization_85[0][0]     \n",
      "__________________________________________________________________________________________________\n",
      "conv2d_92 (Conv2D)              (None, 49, 19, 19)   3249        add_162[0][0]                    \n",
      "__________________________________________________________________________________________________\n",
      "activation_86 (Activation)      (None, 49, 19, 19)   0           conv2d_92[0][0]                  \n",
      "__________________________________________________________________________________________________\n",
      "batch_normalization_86 (BatchNo (None, 49, 19, 19)   76          activation_86[0][0]              \n",
      "__________________________________________________________________________________________________\n",
      "conv2d_93 (Conv2D)              (None, 49, 19, 19)   3249        batch_normalization_86[0][0]     \n",
      "__________________________________________________________________________________________________\n",
      "activation_87 (Activation)      (None, 49, 19, 19)   0           conv2d_93[0][0]                  \n",
      "__________________________________________________________________________________________________\n",
      "batch_normalization_87 (BatchNo (None, 49, 19, 19)   76          activation_87[0][0]              \n",
      "__________________________________________________________________________________________________\n",
      "add_163 (Add)                   (None, 49, 19, 19)   0           add_162[0][0]                    \n",
      "                                                                 batch_normalization_87[0][0]     \n",
      "__________________________________________________________________________________________________\n",
      "conv2d_94 (Conv2D)              (None, 49, 19, 19)   3249        add_163[0][0]                    \n",
      "__________________________________________________________________________________________________\n",
      "activation_88 (Activation)      (None, 49, 19, 19)   0           conv2d_94[0][0]                  \n",
      "__________________________________________________________________________________________________\n",
      "batch_normalization_88 (BatchNo (None, 49, 19, 19)   76          activation_88[0][0]              \n",
      "__________________________________________________________________________________________________\n",
      "conv2d_95 (Conv2D)              (None, 49, 19, 19)   3249        batch_normalization_88[0][0]     \n",
      "__________________________________________________________________________________________________\n",
      "activation_89 (Activation)      (None, 49, 19, 19)   0           conv2d_95[0][0]                  \n",
      "__________________________________________________________________________________________________\n",
      "batch_normalization_89 (BatchNo (None, 49, 19, 19)   76          activation_89[0][0]              \n",
      "__________________________________________________________________________________________________\n",
      "add_164 (Add)                   (None, 49, 19, 19)   0           add_163[0][0]                    \n",
      "                                                                 batch_normalization_89[0][0]     \n",
      "__________________________________________________________________________________________________\n",
      "global_average_pooling2d_5 (Glo (None, 19)           0           add_164[0][0]                    \n",
      "__________________________________________________________________________________________________\n",
      "flatten_20 (Flatten)            (None, 19)           0           global_average_pooling2d_5[0][0] \n",
      "__________________________________________________________________________________________________\n",
      "output (Dense)                  (None, 12)           240         flatten_20[0][0]                 \n",
      "==================================================================================================\n",
      "Total params: 60,280\n",
      "Trainable params: 59,596\n",
      "Non-trainable params: 684\n",
      "__________________________________________________________________________________________________\n",
      "None\n"
     ]
    }
   ],
   "source": [
    "input_shape = [100, 40]\n",
    "number_of_classes=12\n",
    "\n",
    "model = models[config[\"model\"][\"name\"]](input_shape, number_of_classes, **config[\"model\"][\"params\"])\n",
    "print(model.summary())"
   ]
  },
  {
   "cell_type": "code",
   "execution_count": 100,
   "id": "e4d44627",
   "metadata": {},
   "outputs": [],
   "source": [
    "model.save('/Users/emi/resultadosHDA/vit2010/cnn_visiontransformer_23_25_34_Jun_13_2021.h5')"
   ]
  },
  {
   "cell_type": "code",
   "execution_count": 101,
   "id": "f8cf320e",
   "metadata": {},
   "outputs": [
    {
     "data": {
      "text/plain": [
       "<tensorflow.python.training.tracking.util.CheckpointLoadStatus at 0x13b1bc670>"
      ]
     },
     "execution_count": 101,
     "metadata": {},
     "output_type": "execute_result"
    }
   ],
   "source": [
    "# Restore the weights\n",
    "model.load_weights(f'{modelFILE}')"
   ]
  },
  {
   "cell_type": "code",
   "execution_count": 114,
   "id": "e3909db6",
   "metadata": {},
   "outputs": [],
   "source": [
    "import pickle\n",
    "from pathlib import Path\n",
    "configFILE=f'/Users/emi/resultadosHDA/{model_name}_results.pkl'\n",
    "with open(configFILE, 'rb') as f:\n",
    "    results = pickle.load(f)"
   ]
  },
  {
   "cell_type": "code",
   "execution_count": 115,
   "id": "81e8063b",
   "metadata": {},
   "outputs": [],
   "source": [
    "from keyword_spotting.predictions import evaluate_predictions,labels\n",
    "from sklearn.metrics import accuracy_score, f1_score"
   ]
  },
  {
   "cell_type": "code",
   "execution_count": 116,
   "id": "a76b2420",
   "metadata": {},
   "outputs": [
    {
     "data": {
      "text/plain": [
       "0.8629893238434164"
      ]
     },
     "execution_count": 116,
     "metadata": {},
     "output_type": "execute_result"
    }
   ],
   "source": [
    "y_true, y_pred = evaluate_predictions(results[2], Path('/Users/emi/unipd/hda/dataset/'))\n",
    "accuracy_score(y_true, y_pred)"
   ]
  },
  {
   "cell_type": "code",
   "execution_count": null,
   "id": "54d291f9",
   "metadata": {
    "scrolled": true
   },
   "outputs": [],
   "source": []
  },
  {
   "cell_type": "code",
   "execution_count": 35,
   "id": "8f0e7f7a",
   "metadata": {},
   "outputs": [
    {
     "ename": "ModuleNotFoundError",
     "evalue": "No module named 'matplotlib'",
     "output_type": "error",
     "traceback": [
      "\u001b[0;31m---------------------------------------------------------------------------\u001b[0m",
      "\u001b[0;31mModuleNotFoundError\u001b[0m                       Traceback (most recent call last)",
      "\u001b[0;32m<ipython-input-35-53b9c9f30afc>\u001b[0m in \u001b[0;36m<module>\u001b[0;34m\u001b[0m\n\u001b[1;32m      1\u001b[0m \u001b[0;32mfrom\u001b[0m \u001b[0msklearn\u001b[0m\u001b[0;34m.\u001b[0m\u001b[0mmetrics\u001b[0m \u001b[0;32mimport\u001b[0m \u001b[0mconfusion_matrix\u001b[0m\u001b[0;34m,\u001b[0m \u001b[0mConfusionMatrixDisplay\u001b[0m\u001b[0;34m\u001b[0m\u001b[0;34m\u001b[0m\u001b[0m\n\u001b[0;32m----> 2\u001b[0;31m \u001b[0;32mimport\u001b[0m \u001b[0mmatplotlib\u001b[0m\u001b[0;34m.\u001b[0m\u001b[0mpyplot\u001b[0m \u001b[0;32mas\u001b[0m \u001b[0mplt\u001b[0m\u001b[0;34m\u001b[0m\u001b[0;34m\u001b[0m\u001b[0m\n\u001b[0m\u001b[1;32m      3\u001b[0m \u001b[0;34m\u001b[0m\u001b[0m\n\u001b[1;32m      4\u001b[0m \u001b[0mfig\u001b[0m\u001b[0;34m,\u001b[0m \u001b[0max\u001b[0m \u001b[0;34m=\u001b[0m \u001b[0mplt\u001b[0m\u001b[0;34m.\u001b[0m\u001b[0msubplots\u001b[0m\u001b[0;34m(\u001b[0m\u001b[0mfigsize\u001b[0m\u001b[0;34m=\u001b[0m\u001b[0;34m(\u001b[0m\u001b[0;36m8\u001b[0m\u001b[0;34m,\u001b[0m \u001b[0;36m8\u001b[0m\u001b[0;34m)\u001b[0m\u001b[0;34m)\u001b[0m\u001b[0;34m\u001b[0m\u001b[0;34m\u001b[0m\u001b[0m\n\u001b[1;32m      5\u001b[0m \u001b[0;34m\u001b[0m\u001b[0m\n",
      "\u001b[0;31mModuleNotFoundError\u001b[0m: No module named 'matplotlib'"
     ]
    }
   ],
   "source": [
    "from sklearn.metrics import confusion_matrix, ConfusionMatrixDisplay\n",
    "import matplotlib.pyplot as plt\n",
    "\n",
    "fig, ax = plt.subplots(figsize=(8, 8))\n",
    "\n",
    "cm = confusion_matrix(y_true, y_pred)\n",
    "disp = ConfusionMatrixDisplay(confusion_matrix=cm,\n",
    "                               display_labels=labels)\n",
    "disp.plot(ax=ax) "
   ]
  },
  {
   "cell_type": "code",
   "execution_count": null,
   "id": "55135023",
   "metadata": {},
   "outputs": [],
   "source": [
    "disp"
   ]
  }
 ],
 "metadata": {
  "kernelspec": {
   "display_name": "Python 3",
   "language": "python",
   "name": "python3"
  },
  "language_info": {
   "codemirror_mode": {
    "name": "ipython",
    "version": 3
   },
   "file_extension": ".py",
   "mimetype": "text/x-python",
   "name": "python",
   "nbconvert_exporter": "python",
   "pygments_lexer": "ipython3",
   "version": "3.9.4"
  }
 },
 "nbformat": 4,
 "nbformat_minor": 5
}
