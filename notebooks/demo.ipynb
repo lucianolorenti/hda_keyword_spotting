{
 "cells": [
  {
   "cell_type": "code",
   "execution_count": 1,
   "id": "4d609064",
   "metadata": {},
   "outputs": [],
   "source": [
    "from pathlib import Path\n",
    "from keyword_spotting.utils import (add_noise, play_audio_from_file, play_audio_from_array, \n",
    "                                    load_model)\n",
    "from keyword_spotting.predictions import predict_audio, get_label\n",
    "from keyword_spotting.feature_extraction.utils import read_wav, extract_features\n",
    "import pickle\n",
    "import numpy as np\n",
    "import matplotlib.pyplot as plt\n",
    "\n",
    "from simpleaudio import WaveObject"
   ]
  },
  {
   "cell_type": "code",
   "execution_count": null,
   "id": "2a25cf0d",
   "metadata": {},
   "outputs": [],
   "source": []
  },
  {
   "cell_type": "markdown",
   "id": "08c31ea5",
   "metadata": {},
   "source": [
    "# Data augmentation: Noise adding"
   ]
  },
  {
   "cell_type": "code",
   "execution_count": 18,
   "id": "76e9eb42",
   "metadata": {},
   "outputs": [],
   "source": [
    "with open(DATASET_PATH / 'X_train.pickle', 'rb') as file:\n",
    "    wavs = pickle.load(file)"
   ]
  },
  {
   "cell_type": "code",
   "execution_count": 19,
   "id": "6db74047",
   "metadata": {},
   "outputs": [],
   "source": [
    "sample_rate, signal = read_wav(DATASET_PATH / wavs[56])\n",
    "sample_rate_noise, signal_noise = add_noise(sample_rate, signal, DATASET_PATH, random_noise=False, noise_factor=0.5)"
   ]
  },
  {
   "cell_type": "code",
   "execution_count": 20,
   "id": "dfccd597",
   "metadata": {},
   "outputs": [
    {
     "ename": "SimpleaudioError",
     "evalue": "Error opening PCM device. -- CODE: -16 -- MSG: Device or resource busy",
     "output_type": "error",
     "traceback": [
      "\u001b[0;31m---------------------------------------------------------------------------\u001b[0m",
      "\u001b[0;31mSimpleaudioError\u001b[0m                          Traceback (most recent call last)",
      "\u001b[0;32m<ipython-input-20-0bbc0b425f5f>\u001b[0m in \u001b[0;36m<module>\u001b[0;34m\u001b[0m\n\u001b[0;32m----> 1\u001b[0;31m \u001b[0mplay_audio_from_array\u001b[0m\u001b[0;34m(\u001b[0m\u001b[0msignal\u001b[0m\u001b[0;34m)\u001b[0m\u001b[0;34m\u001b[0m\u001b[0;34m\u001b[0m\u001b[0m\n\u001b[0m",
      "\u001b[0;32m~/fuentes/hda/keyword_spotting/utils.py\u001b[0m in \u001b[0;36mplay_audio_from_array\u001b[0;34m(signal, sample_rate, num_channels)\u001b[0m\n\u001b[1;32m     94\u001b[0m         \u001b[0msignal\u001b[0m\u001b[0;34m.\u001b[0m\u001b[0mastype\u001b[0m\u001b[0;34m(\u001b[0m\u001b[0mnp\u001b[0m\u001b[0;34m.\u001b[0m\u001b[0mint16\u001b[0m\u001b[0;34m)\u001b[0m\u001b[0;34m,\u001b[0m \u001b[0mnum_channels\u001b[0m\u001b[0;34m=\u001b[0m\u001b[0mnum_channels\u001b[0m\u001b[0;34m,\u001b[0m \u001b[0msample_rate\u001b[0m\u001b[0;34m=\u001b[0m\u001b[0msample_rate\u001b[0m\u001b[0;34m\u001b[0m\u001b[0;34m\u001b[0m\u001b[0m\n\u001b[1;32m     95\u001b[0m     )\n\u001b[0;32m---> 96\u001b[0;31m     \u001b[0mwave_obj\u001b[0m\u001b[0;34m.\u001b[0m\u001b[0mplay\u001b[0m\u001b[0;34m(\u001b[0m\u001b[0;34m)\u001b[0m\u001b[0;34m\u001b[0m\u001b[0;34m\u001b[0m\u001b[0m\n\u001b[0m\u001b[1;32m     97\u001b[0m \u001b[0;34m\u001b[0m\u001b[0m\n\u001b[1;32m     98\u001b[0m \u001b[0;34m\u001b[0m\u001b[0m\n",
      "\u001b[0;32m~/venvs/general38/lib/python3.8/site-packages/simpleaudio/shiny.py\u001b[0m in \u001b[0;36mplay\u001b[0;34m(self)\u001b[0m\n\u001b[1;32m     17\u001b[0m \u001b[0;34m\u001b[0m\u001b[0m\n\u001b[1;32m     18\u001b[0m     \u001b[0;32mdef\u001b[0m \u001b[0mplay\u001b[0m\u001b[0;34m(\u001b[0m\u001b[0mself\u001b[0m\u001b[0;34m)\u001b[0m\u001b[0;34m:\u001b[0m\u001b[0;34m\u001b[0m\u001b[0;34m\u001b[0m\u001b[0m\n\u001b[0;32m---> 19\u001b[0;31m         return play_buffer(self.audio_data, self.num_channels,\n\u001b[0m\u001b[1;32m     20\u001b[0m                            self.bytes_per_sample, self.sample_rate)\n\u001b[1;32m     21\u001b[0m \u001b[0;34m\u001b[0m\u001b[0m\n",
      "\u001b[0;32m~/venvs/general38/lib/python3.8/site-packages/simpleaudio/shiny.py\u001b[0m in \u001b[0;36mplay_buffer\u001b[0;34m(audio_data, num_channels, bytes_per_sample, sample_rate)\u001b[0m\n\u001b[1;32m     58\u001b[0m \u001b[0;34m\u001b[0m\u001b[0m\n\u001b[1;32m     59\u001b[0m \u001b[0;32mdef\u001b[0m \u001b[0mplay_buffer\u001b[0m\u001b[0;34m(\u001b[0m\u001b[0maudio_data\u001b[0m\u001b[0;34m,\u001b[0m \u001b[0mnum_channels\u001b[0m\u001b[0;34m,\u001b[0m \u001b[0mbytes_per_sample\u001b[0m\u001b[0;34m,\u001b[0m \u001b[0msample_rate\u001b[0m\u001b[0;34m)\u001b[0m\u001b[0;34m:\u001b[0m\u001b[0;34m\u001b[0m\u001b[0;34m\u001b[0m\u001b[0m\n\u001b[0;32m---> 60\u001b[0;31m     play_id = _sa._play_buffer(audio_data, num_channels, bytes_per_sample,\n\u001b[0m\u001b[1;32m     61\u001b[0m                                sample_rate)\n\u001b[1;32m     62\u001b[0m     \u001b[0;32mreturn\u001b[0m \u001b[0mPlayObject\u001b[0m\u001b[0;34m(\u001b[0m\u001b[0mplay_id\u001b[0m\u001b[0;34m)\u001b[0m\u001b[0;34m\u001b[0m\u001b[0;34m\u001b[0m\u001b[0m\n",
      "\u001b[0;31mSimpleaudioError\u001b[0m: Error opening PCM device. -- CODE: -16 -- MSG: Device or resource busy"
     ]
    }
   ],
   "source": [
    "play_audio_from_array(signal)"
   ]
  },
  {
   "cell_type": "code",
   "execution_count": 6,
   "id": "62238ba6",
   "metadata": {},
   "outputs": [
    {
     "ename": "SimpleaudioError",
     "evalue": "Error opening PCM device. -- CODE: -16 -- MSG: Device or resource busy",
     "output_type": "error",
     "traceback": [
      "\u001b[0;31m---------------------------------------------------------------------------\u001b[0m",
      "\u001b[0;31mSimpleaudioError\u001b[0m                          Traceback (most recent call last)",
      "\u001b[0;32m<ipython-input-6-282686cc2d0e>\u001b[0m in \u001b[0;36m<module>\u001b[0;34m\u001b[0m\n\u001b[0;32m----> 1\u001b[0;31m \u001b[0mplay_audio_from_array\u001b[0m\u001b[0;34m(\u001b[0m\u001b[0msignal_noise\u001b[0m\u001b[0;34m)\u001b[0m\u001b[0;34m\u001b[0m\u001b[0;34m\u001b[0m\u001b[0m\n\u001b[0m",
      "\u001b[0;32m~/fuentes/hda/keyword_spotting/utils.py\u001b[0m in \u001b[0;36mplay_audio_from_array\u001b[0;34m(signal, sample_rate, num_channels)\u001b[0m\n\u001b[1;32m     94\u001b[0m         \u001b[0msignal\u001b[0m\u001b[0;34m.\u001b[0m\u001b[0mastype\u001b[0m\u001b[0;34m(\u001b[0m\u001b[0mnp\u001b[0m\u001b[0;34m.\u001b[0m\u001b[0mint16\u001b[0m\u001b[0;34m)\u001b[0m\u001b[0;34m,\u001b[0m \u001b[0mnum_channels\u001b[0m\u001b[0;34m=\u001b[0m\u001b[0mnum_channels\u001b[0m\u001b[0;34m,\u001b[0m \u001b[0msample_rate\u001b[0m\u001b[0;34m=\u001b[0m\u001b[0msample_rate\u001b[0m\u001b[0;34m\u001b[0m\u001b[0;34m\u001b[0m\u001b[0m\n\u001b[1;32m     95\u001b[0m     )\n\u001b[0;32m---> 96\u001b[0;31m     \u001b[0mwave_obj\u001b[0m\u001b[0;34m.\u001b[0m\u001b[0mplay\u001b[0m\u001b[0;34m(\u001b[0m\u001b[0;34m)\u001b[0m\u001b[0;34m\u001b[0m\u001b[0;34m\u001b[0m\u001b[0m\n\u001b[0m\u001b[1;32m     97\u001b[0m \u001b[0;34m\u001b[0m\u001b[0m\n\u001b[1;32m     98\u001b[0m \u001b[0;34m\u001b[0m\u001b[0m\n",
      "\u001b[0;32m~/venvs/general38/lib/python3.8/site-packages/simpleaudio/shiny.py\u001b[0m in \u001b[0;36mplay\u001b[0;34m(self)\u001b[0m\n\u001b[1;32m     17\u001b[0m \u001b[0;34m\u001b[0m\u001b[0m\n\u001b[1;32m     18\u001b[0m     \u001b[0;32mdef\u001b[0m \u001b[0mplay\u001b[0m\u001b[0;34m(\u001b[0m\u001b[0mself\u001b[0m\u001b[0;34m)\u001b[0m\u001b[0;34m:\u001b[0m\u001b[0;34m\u001b[0m\u001b[0;34m\u001b[0m\u001b[0m\n\u001b[0;32m---> 19\u001b[0;31m         return play_buffer(self.audio_data, self.num_channels,\n\u001b[0m\u001b[1;32m     20\u001b[0m                            self.bytes_per_sample, self.sample_rate)\n\u001b[1;32m     21\u001b[0m \u001b[0;34m\u001b[0m\u001b[0m\n",
      "\u001b[0;32m~/venvs/general38/lib/python3.8/site-packages/simpleaudio/shiny.py\u001b[0m in \u001b[0;36mplay_buffer\u001b[0;34m(audio_data, num_channels, bytes_per_sample, sample_rate)\u001b[0m\n\u001b[1;32m     58\u001b[0m \u001b[0;34m\u001b[0m\u001b[0m\n\u001b[1;32m     59\u001b[0m \u001b[0;32mdef\u001b[0m \u001b[0mplay_buffer\u001b[0m\u001b[0;34m(\u001b[0m\u001b[0maudio_data\u001b[0m\u001b[0;34m,\u001b[0m \u001b[0mnum_channels\u001b[0m\u001b[0;34m,\u001b[0m \u001b[0mbytes_per_sample\u001b[0m\u001b[0;34m,\u001b[0m \u001b[0msample_rate\u001b[0m\u001b[0;34m)\u001b[0m\u001b[0;34m:\u001b[0m\u001b[0;34m\u001b[0m\u001b[0;34m\u001b[0m\u001b[0m\n\u001b[0;32m---> 60\u001b[0;31m     play_id = _sa._play_buffer(audio_data, num_channels, bytes_per_sample,\n\u001b[0m\u001b[1;32m     61\u001b[0m                                sample_rate)\n\u001b[1;32m     62\u001b[0m     \u001b[0;32mreturn\u001b[0m \u001b[0mPlayObject\u001b[0m\u001b[0;34m(\u001b[0m\u001b[0mplay_id\u001b[0m\u001b[0;34m)\u001b[0m\u001b[0;34m\u001b[0m\u001b[0;34m\u001b[0m\u001b[0m\n",
      "\u001b[0;31mSimpleaudioError\u001b[0m: Error opening PCM device. -- CODE: -16 -- MSG: Device or resource busy"
     ]
    }
   ],
   "source": [
    "play_audio_from_array(signal_noise)"
   ]
  },
  {
   "cell_type": "markdown",
   "id": "ec279c53",
   "metadata": {},
   "source": [
    "# Feature extraction"
   ]
  },
  {
   "cell_type": "code",
   "execution_count": 7,
   "id": "52a9f07b",
   "metadata": {},
   "outputs": [
    {
     "data": {
      "text/plain": [
       "<matplotlib.colorbar.Colorbar at 0x7fe35b662ac0>"
      ]
     },
     "execution_count": 7,
     "metadata": {},
     "output_type": "execute_result"
    },
    {
     "data": {
      "image/png": "[encoded data removed]",
      "text/plain": [
       "<Figure size 1224x360 with 2 Axes>"
      ]
     },
     "metadata": {
      "needs_background": "light"
     },
     "output_type": "display_data"
    }
   ],
   "source": [
    "q = extract_features(signal, sample_rate)\n",
    "fig, ax = plt.subplots(figsize=(17, 5))\n",
    "image = ax.imshow(q.T)\n",
    "fig.colorbar(image)"
   ]
  },
  {
   "cell_type": "markdown",
   "id": "e016e4e8",
   "metadata": {},
   "source": [
    "# Predict on an audio "
   ]
  },
  {
   "cell_type": "code",
   "execution_count": 8,
   "id": "e5a9e537",
   "metadata": {},
   "outputs": [
    {
     "name": "stdout",
     "output_type": "stream",
     "text": [
      "WARNING:tensorflow:Error in loading the saved optimizer state. As a result, your model is starting with a freshly initialized optimizer.\n"
     ]
    }
   ],
   "source": [
    "model = load_model('../models/res3')"
   ]
  },
  {
   "cell_type": "code",
   "execution_count": 15,
   "id": "ae5c522d",
   "metadata": {},
   "outputs": [
    {
     "data": {
      "text/plain": [
       "'stop/29229c21_nohash_2.wav'"
      ]
     },
     "execution_count": 15,
     "metadata": {},
     "output_type": "execute_result"
    }
   ],
   "source": [
    "k = 556\n",
    "sample_rate, signal = read_wav(DATASET_PATH / wavs[k])\n",
    "wavs[k]"
   ]
  },
  {
   "cell_type": "code",
   "execution_count": 16,
   "id": "ce6294e4",
   "metadata": {},
   "outputs": [
    {
     "data": {
      "text/plain": [
       "'stop'"
      ]
     },
     "execution_count": 16,
     "metadata": {},
     "output_type": "execute_result"
    }
   ],
   "source": [
    "get_label(predict_audio(model, signal, sample_rate))"
   ]
  },
  {
   "cell_type": "code",
   "execution_count": null,
   "id": "65af2643",
   "metadata": {},
   "outputs": [],
   "source": []
  },
  {
   "cell_type": "code",
   "execution_count": null,
   "id": "7562e379",
   "metadata": {},
   "outputs": [],
   "source": []
  }
 ],
 "metadata": {
  "kernelspec": {
   "display_name": "Python 3",
   "language": "python",
   "name": "python3"
  },
  "language_info": {
   "codemirror_mode": {
    "name": "ipython",
    "version": 3
   },
   "file_extension": ".py",
   "mimetype": "text/x-python",
   "name": "python",
   "nbconvert_exporter": "python",
   "pygments_lexer": "ipython3",
   "version": "3.8.6"
  }
 },
 "nbformat": 4,
 "nbformat_minor": 5
}
