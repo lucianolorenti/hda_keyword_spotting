{
 "cells": [
  {
   "cell_type": "code",
   "execution_count": 101,
   "id": "f762880f",
   "metadata": {},
   "outputs": [],
   "source": [
    "import pickle\n",
    "import simpleaudio as sa\n",
    "from keyword_spotting.feature_extraction.utils import read_wav\n",
    "import numpy as np\n",
    "from scipy.io.wavfile import write\n",
    "import pyaudio\n",
    "import wave"
   ]
  },
  {
   "cell_type": "code",
   "execution_count": 102,
   "id": "c31c5f0b",
   "metadata": {},
   "outputs": [],
   "source": []
  },
  {
   "cell_type": "code",
   "execution_count": 133,
   "id": "58a738a0",
   "metadata": {},
   "outputs": [],
   "source": [
    "filename = \"lolo_silence1.wav\""
   ]
  },
  {
   "cell_type": "code",
   "execution_count": 134,
   "id": "4a737515",
   "metadata": {},
   "outputs": [
    {
     "name": "stdout",
     "output_type": "stream",
     "text": [
      "Recording\n",
      "Finished recording\n"
     ]
    }
   ],
   "source": [
    "chunk = 1024  # Record in chunks of 1024 samples\n",
    "sample_format = pyaudio.paInt16  # 16 bits per sample\n",
    "channels = 1\n",
    "fs = 16000  # Record at 44100 samples per second\n",
    "seconds = 2\n",
    "\n",
    "p = pyaudio.PyAudio()  # Create an interface to PortAudio\n",
    "\n",
    "print('Recording')\n",
    "\n",
    "stream = p.open(format=sample_format,\n",
    "                channels=channels,\n",
    "                rate=fs,\n",
    "                frames_per_buffer=chunk,\n",
    "                input=True)\n",
    "\n",
    "frames = []  # Initialize array to store frames\n",
    "\n",
    "# Store data in chunks for 3 seconds\n",
    "for i in range(0, int(fs / chunk * seconds)):\n",
    "    data = stream.read(chunk)\n",
    "    frames.append(data)\n",
    "\n",
    "# Stop and close the stream \n",
    "stream.stop_stream()\n",
    "stream.close()\n",
    "# Terminate the PortAudio interface\n",
    "p.terminate()\n",
    "\n",
    "print('Finished recording')\n",
    "\n",
    "# Save the recorded data as a WAV file\n",
    "wf = wave.open(filename, 'wb')\n",
    "wf.setnchannels(channels)\n",
    "wf.setsampwidth(p.get_sample_size(sample_format))\n",
    "wf.setframerate(fs)\n",
    "wf.writeframes(b''.join(frames))\n",
    "wf.close()"
   ]
  },
  {
   "cell_type": "code",
   "execution_count": 135,
   "id": "62ce7f19",
   "metadata": {},
   "outputs": [],
   "source": [
    "wave_obj = sa.WaveObject.from_wave_file(filename)\n",
    "play_obj = wave_obj.play()\n",
    "play_obj.wait_done()  # Wait until sound has finished playing"
   ]
  },
  {
   "cell_type": "markdown",
   "id": "8f5861ed",
   "metadata": {},
   "source": [
    "# Predecir con el modelo cual es el label"
   ]
  },
  {
   "cell_type": "code",
   "execution_count": 6,
   "id": "223ea356",
   "metadata": {},
   "outputs": [],
   "source": [
    "import tensorflow as tf\n",
    "from keyword_spotting.model import models"
   ]
  },
  {
   "cell_type": "code",
   "execution_count": 34,
   "id": "f5ee258e",
   "metadata": {},
   "outputs": [
    {
     "data": {
      "text/plain": [
       "{'model': {'name': 'cnn_residual2',\n",
       "  'params': {'n_residuals': 3, 'n_filters': 19, 'learning_rate': 0.01},\n",
       "  'windowed': False},\n",
       " 'train': {'batch_size': 64, 'epochs': 27, 'reduce_on_plateau': True}}"
      ]
     },
     "execution_count": 34,
     "metadata": {},
     "output_type": "execute_result"
    }
   ],
   "source": [
    "configFILE='/Users/emi/cnn_residual2_19_04_14_Jun_13_2021_results.pkl'\n",
    "modelFILE = '/Users/emi/cnn_residual2_19_04_14_Jun_13_2021'\n",
    "with open(configFILE, 'rb') as f:\n",
    "    config, time, predictions = pickle.load(f)\n",
    "config"
   ]
  },
  {
   "cell_type": "code",
   "execution_count": 35,
   "id": "70d1ce39",
   "metadata": {
    "scrolled": false
   },
   "outputs": [
    {
     "name": "stdout",
     "output_type": "stream",
     "text": [
      "Model: \"model_4\"\n",
      "__________________________________________________________________________________________________\n",
      "Layer (type)                    Output Shape         Param #     Connected to                     \n",
      "==================================================================================================\n",
      "input_5 (InputLayer)            [(None, 100, 40)]    0                                            \n",
      "__________________________________________________________________________________________________\n",
      "lambda_4 (Lambda)               (None, 100, 40, 1)   0           input_5[0][0]                    \n",
      "__________________________________________________________________________________________________\n",
      "conv2d_7 (Conv2D)               (None, 98, 38, 19)   190         lambda_4[0][0]                   \n",
      "__________________________________________________________________________________________________\n",
      "average_pooling2d_1 (AveragePoo (None, 49, 19, 19)   0           conv2d_7[0][0]                   \n",
      "__________________________________________________________________________________________________\n",
      "conv2d_8 (Conv2D)               (None, 49, 19, 19)   3249        average_pooling2d_1[0][0]        \n",
      "__________________________________________________________________________________________________\n",
      "activation_6 (Activation)       (None, 49, 19, 19)   0           conv2d_8[0][0]                   \n",
      "__________________________________________________________________________________________________\n",
      "batch_normalization_6 (BatchNor (None, 49, 19, 19)   76          activation_6[0][0]               \n",
      "__________________________________________________________________________________________________\n",
      "conv2d_9 (Conv2D)               (None, 49, 19, 19)   3249        batch_normalization_6[0][0]      \n",
      "__________________________________________________________________________________________________\n",
      "activation_7 (Activation)       (None, 49, 19, 19)   0           conv2d_9[0][0]                   \n",
      "__________________________________________________________________________________________________\n",
      "batch_normalization_7 (BatchNor (None, 49, 19, 19)   76          activation_7[0][0]               \n",
      "__________________________________________________________________________________________________\n",
      "add_27 (Add)                    (None, 49, 19, 19)   0           average_pooling2d_1[0][0]        \n",
      "                                                                 batch_normalization_7[0][0]      \n",
      "__________________________________________________________________________________________________\n",
      "conv2d_10 (Conv2D)              (None, 49, 19, 19)   3249        add_27[0][0]                     \n",
      "__________________________________________________________________________________________________\n",
      "activation_8 (Activation)       (None, 49, 19, 19)   0           conv2d_10[0][0]                  \n",
      "__________________________________________________________________________________________________\n",
      "batch_normalization_8 (BatchNor (None, 49, 19, 19)   76          activation_8[0][0]               \n",
      "__________________________________________________________________________________________________\n",
      "conv2d_11 (Conv2D)              (None, 49, 19, 19)   3249        batch_normalization_8[0][0]      \n",
      "__________________________________________________________________________________________________\n",
      "activation_9 (Activation)       (None, 49, 19, 19)   0           conv2d_11[0][0]                  \n",
      "__________________________________________________________________________________________________\n",
      "batch_normalization_9 (BatchNor (None, 49, 19, 19)   76          activation_9[0][0]               \n",
      "__________________________________________________________________________________________________\n",
      "add_28 (Add)                    (None, 49, 19, 19)   0           add_27[0][0]                     \n",
      "                                                                 batch_normalization_9[0][0]      \n",
      "__________________________________________________________________________________________________\n",
      "conv2d_12 (Conv2D)              (None, 49, 19, 19)   3249        add_28[0][0]                     \n",
      "__________________________________________________________________________________________________\n",
      "activation_10 (Activation)      (None, 49, 19, 19)   0           conv2d_12[0][0]                  \n",
      "__________________________________________________________________________________________________\n",
      "batch_normalization_10 (BatchNo (None, 49, 19, 19)   76          activation_10[0][0]              \n",
      "__________________________________________________________________________________________________\n",
      "conv2d_13 (Conv2D)              (None, 49, 19, 19)   3249        batch_normalization_10[0][0]     \n",
      "__________________________________________________________________________________________________\n",
      "activation_11 (Activation)      (None, 49, 19, 19)   0           conv2d_13[0][0]                  \n",
      "__________________________________________________________________________________________________\n",
      "batch_normalization_11 (BatchNo (None, 49, 19, 19)   76          activation_11[0][0]              \n",
      "__________________________________________________________________________________________________\n",
      "add_29 (Add)                    (None, 49, 19, 19)   0           add_28[0][0]                     \n",
      "                                                                 batch_normalization_11[0][0]     \n",
      "__________________________________________________________________________________________________\n",
      "global_average_pooling2d_1 (Glo (None, 19)           0           add_29[0][0]                     \n",
      "__________________________________________________________________________________________________\n",
      "flatten_4 (Flatten)             (None, 19)           0           global_average_pooling2d_1[0][0] \n",
      "__________________________________________________________________________________________________\n",
      "output (Dense)                  (None, 12)           240         flatten_4[0][0]                  \n",
      "==================================================================================================\n",
      "Total params: 20,380\n",
      "Trainable params: 20,152\n",
      "Non-trainable params: 228\n",
      "__________________________________________________________________________________________________\n",
      "None\n"
     ]
    }
   ],
   "source": [
    "input_shape = [100, 40]\n",
    "number_of_classes=12\n",
    "\n",
    "model = models[config[\"model\"][\"name\"]](input_shape, number_of_classes, **config[\"model\"][\"params\"])\n",
    "print(model.summary())"
   ]
  },
  {
   "cell_type": "code",
   "execution_count": 36,
   "id": "11108e1f",
   "metadata": {},
   "outputs": [
    {
     "data": {
      "text/plain": [
       "<tensorflow.python.training.tracking.util.CheckpointLoadStatus at 0x17efa6f40>"
      ]
     },
     "execution_count": 36,
     "metadata": {},
     "output_type": "execute_result"
    }
   ],
   "source": [
    "# Restore the weights\n",
    "model.load_weights(f'{modelFILE}')"
   ]
  },
  {
   "cell_type": "code",
   "execution_count": 51,
   "id": "b2a9fca8",
   "metadata": {},
   "outputs": [],
   "source": [
    "from keyword_spotting.feature_extraction.utils import extract_features, read_wav, windowed\n",
    "import numpy as np\n",
    "from keyword_spotting.predictions import labels"
   ]
  },
  {
   "cell_type": "code",
   "execution_count": 59,
   "id": "a8e00abf",
   "metadata": {},
   "outputs": [
    {
     "data": {
      "text/plain": [
       "['yes',\n",
       " 'no',\n",
       " 'up',\n",
       " 'down',\n",
       " 'left',\n",
       " 'right',\n",
       " 'on',\n",
       " 'off',\n",
       " 'stop',\n",
       " 'go',\n",
       " 'unknown',\n",
       " 'silence']"
      ]
     },
     "execution_count": 59,
     "metadata": {},
     "output_type": "execute_result"
    }
   ],
   "source": [
    "labels"
   ]
  },
  {
   "cell_type": "markdown",
   "id": "f5994fc6",
   "metadata": {},
   "source": [
    "# Predict the label using one of our models"
   ]
  },
  {
   "cell_type": "code",
   "execution_count": 136,
   "id": "b6fb608d",
   "metadata": {},
   "outputs": [],
   "source": [
    "sample_rate, signal = read_wav(filename)\n",
    "data = extract_features(signal, sample_rate)\n",
    "data = np.expand_dims(data[:100,:], axis=0)\n",
    "predictions = model.predict(data)"
   ]
  },
  {
   "cell_type": "code",
   "execution_count": 137,
   "id": "2e6264d5",
   "metadata": {},
   "outputs": [
    {
     "data": {
      "text/plain": [
       "array([[6.39143982e-04, 1.05054794e-04, 5.44560608e-04, 4.92981890e-05,\n",
       "        1.27227577e-05, 1.04601559e-05, 1.79339841e-04, 2.25342766e-04,\n",
       "        1.24152109e-04, 8.45095856e-05, 6.10138741e-05, 9.97964382e-01]],\n",
       "      dtype=float32)"
      ]
     },
     "execution_count": 137,
     "metadata": {},
     "output_type": "execute_result"
    }
   ],
   "source": [
    "predictions"
   ]
  },
  {
   "cell_type": "code",
   "execution_count": 138,
   "id": "017b1da5",
   "metadata": {},
   "outputs": [
    {
     "data": {
      "text/plain": [
       "'silence'"
      ]
     },
     "execution_count": 138,
     "metadata": {},
     "output_type": "execute_result"
    }
   ],
   "source": [
    "label_predicted = np.argmax(predictions)\n",
    "labels[label_predicted]"
   ]
  }
 ],
 "metadata": {
  "kernelspec": {
   "display_name": "Python 3",
   "language": "python",
   "name": "python3"
  },
  "language_info": {
   "codemirror_mode": {
    "name": "ipython",
    "version": 3
   },
   "file_extension": ".py",
   "mimetype": "text/x-python",
   "name": "python",
   "nbconvert_exporter": "python",
   "pygments_lexer": "ipython3",
   "version": "3.8.6"
  }
 },
 "nbformat": 4,
 "nbformat_minor": 5
}
