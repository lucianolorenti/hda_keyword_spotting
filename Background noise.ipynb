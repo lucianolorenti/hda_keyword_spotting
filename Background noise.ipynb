{
 "cells": [
  {
   "cell_type": "code",
   "execution_count": 4,
   "id": "787953e3",
   "metadata": {},
   "outputs": [],
   "source": [
    "import pickle\n",
    "import simpleaudio as sa\n",
    "from keyword_spotting.feature_extraction.utils import read_wav\n",
    "import numpy as np\n",
    "from scipy.io.wavfile import write"
   ]
  },
  {
   "cell_type": "code",
   "execution_count": 6,
   "id": "78d3cd87",
   "metadata": {},
   "outputs": [],
   "source": [
    "def add_noise(sample_rate, signal, noise_ratio=0.4):\n",
    "    noise_path = (\n",
    "        \"/home/luciano/speeech_2/_background_noise_/\" + np.random.choice(noise_files)\n",
    "    )\n",
    "    fs, data_noise = read_wav(noise_path)\n",
    "    min_length = min(data_noise.shape[0], signal.shape[0])\n",
    "    signal[:min_length] = signal[:min_length] + noise_ratio*data_noise[:min_length]\n",
    "    return sample_rate, signal\n",
    "\n",
    "noise_files = [\n",
    "    \"doing_the_dishes.wav\",\n",
    "    \"dude_miaowing.wav\",\n",
    "    \"exercise_bike.wav\",\n",
    "    \"pink_noise.wav\",\n",
    "    \"running_tap.wav\",\n",
    "    \"white_noise.wav\",\n",
    "]"
   ]
  },
  {
   "cell_type": "code",
   "execution_count": 8,
   "id": "b8d2d4d1",
   "metadata": {},
   "outputs": [],
   "source": [
    "with open('/home/luciano/speech_2/X_train.pickle', 'rb') as file:\n",
    "    wavs = pickle.load(file)"
   ]
  },
  {
   "cell_type": "code",
   "execution_count": 9,
   "id": "9d9262f5",
   "metadata": {},
   "outputs": [
    {
     "data": {
      "text/plain": [
       "35967"
      ]
     },
     "execution_count": 9,
     "metadata": {},
     "output_type": "execute_result"
    }
   ],
   "source": [
    "len(wavs)"
   ]
  },
  {
   "cell_type": "code",
   "execution_count": 10,
   "id": "9e48ed13",
   "metadata": {},
   "outputs": [
    {
     "data": {
      "text/plain": [
       "'unknown/0585b66d_nohash_1.wav'"
      ]
     },
     "execution_count": 10,
     "metadata": {},
     "output_type": "execute_result"
    }
   ],
   "source": [
    "wavs[0]"
   ]
  },
  {
   "cell_type": "code",
   "execution_count": 12,
   "id": "e747a16e",
   "metadata": {},
   "outputs": [
    {
     "ename": "SimpleaudioError",
     "evalue": "Error opening PCM device. -- CODE: -16 -- MSG: Device or resource busy",
     "output_type": "error",
     "traceback": [
      "\u001b[0;31m---------------------------------------------------------------------------\u001b[0m",
      "\u001b[0;31mSimpleaudioError\u001b[0m                          Traceback (most recent call last)",
      "\u001b[0;32m<ipython-input-12-a737239ea81f>\u001b[0m in \u001b[0;36m<module>\u001b[0;34m\u001b[0m\n\u001b[1;32m      1\u001b[0m \u001b[0mfilename\u001b[0m \u001b[0;34m=\u001b[0m \u001b[0;34mf'/home/luciano/speech_2/{wavs[0]}'\u001b[0m\u001b[0;34m\u001b[0m\u001b[0;34m\u001b[0m\u001b[0m\n\u001b[1;32m      2\u001b[0m \u001b[0mwave_obj\u001b[0m \u001b[0;34m=\u001b[0m \u001b[0msa\u001b[0m\u001b[0;34m.\u001b[0m\u001b[0mWaveObject\u001b[0m\u001b[0;34m.\u001b[0m\u001b[0mfrom_wave_file\u001b[0m\u001b[0;34m(\u001b[0m\u001b[0mfilename\u001b[0m\u001b[0;34m)\u001b[0m\u001b[0;34m\u001b[0m\u001b[0;34m\u001b[0m\u001b[0m\n\u001b[0;32m----> 3\u001b[0;31m \u001b[0mplay_obj\u001b[0m \u001b[0;34m=\u001b[0m \u001b[0mwave_obj\u001b[0m\u001b[0;34m.\u001b[0m\u001b[0mplay\u001b[0m\u001b[0;34m(\u001b[0m\u001b[0;34m)\u001b[0m\u001b[0;34m\u001b[0m\u001b[0;34m\u001b[0m\u001b[0m\n\u001b[0m\u001b[1;32m      4\u001b[0m \u001b[0mplay_obj\u001b[0m\u001b[0;34m.\u001b[0m\u001b[0mwait_done\u001b[0m\u001b[0;34m(\u001b[0m\u001b[0;34m)\u001b[0m  \u001b[0;31m# Wait until sound has finished playing\u001b[0m\u001b[0;34m\u001b[0m\u001b[0;34m\u001b[0m\u001b[0m\n",
      "\u001b[0;32m~/venvs/general38/lib/python3.8/site-packages/simpleaudio/shiny.py\u001b[0m in \u001b[0;36mplay\u001b[0;34m(self)\u001b[0m\n\u001b[1;32m     17\u001b[0m \u001b[0;34m\u001b[0m\u001b[0m\n\u001b[1;32m     18\u001b[0m     \u001b[0;32mdef\u001b[0m \u001b[0mplay\u001b[0m\u001b[0;34m(\u001b[0m\u001b[0mself\u001b[0m\u001b[0;34m)\u001b[0m\u001b[0;34m:\u001b[0m\u001b[0;34m\u001b[0m\u001b[0;34m\u001b[0m\u001b[0m\n\u001b[0;32m---> 19\u001b[0;31m         return play_buffer(self.audio_data, self.num_channels,\n\u001b[0m\u001b[1;32m     20\u001b[0m                            self.bytes_per_sample, self.sample_rate)\n\u001b[1;32m     21\u001b[0m \u001b[0;34m\u001b[0m\u001b[0m\n",
      "\u001b[0;32m~/venvs/general38/lib/python3.8/site-packages/simpleaudio/shiny.py\u001b[0m in \u001b[0;36mplay_buffer\u001b[0;34m(audio_data, num_channels, bytes_per_sample, sample_rate)\u001b[0m\n\u001b[1;32m     58\u001b[0m \u001b[0;34m\u001b[0m\u001b[0m\n\u001b[1;32m     59\u001b[0m \u001b[0;32mdef\u001b[0m \u001b[0mplay_buffer\u001b[0m\u001b[0;34m(\u001b[0m\u001b[0maudio_data\u001b[0m\u001b[0;34m,\u001b[0m \u001b[0mnum_channels\u001b[0m\u001b[0;34m,\u001b[0m \u001b[0mbytes_per_sample\u001b[0m\u001b[0;34m,\u001b[0m \u001b[0msample_rate\u001b[0m\u001b[0;34m)\u001b[0m\u001b[0;34m:\u001b[0m\u001b[0;34m\u001b[0m\u001b[0;34m\u001b[0m\u001b[0m\n\u001b[0;32m---> 60\u001b[0;31m     play_id = _sa._play_buffer(audio_data, num_channels, bytes_per_sample,\n\u001b[0m\u001b[1;32m     61\u001b[0m                                sample_rate)\n\u001b[1;32m     62\u001b[0m     \u001b[0;32mreturn\u001b[0m \u001b[0mPlayObject\u001b[0m\u001b[0;34m(\u001b[0m\u001b[0mplay_id\u001b[0m\u001b[0;34m)\u001b[0m\u001b[0;34m\u001b[0m\u001b[0;34m\u001b[0m\u001b[0m\n",
      "\u001b[0;31mSimpleaudioError\u001b[0m: Error opening PCM device. -- CODE: -16 -- MSG: Device or resource busy"
     ]
    }
   ],
   "source": [
    "filename = f'/home/luciano/speech_2/{wavs[0]}'\n",
    "wave_obj = sa.WaveObject.from_wave_file(filename)\n",
    "play_obj = wave_obj.play()\n",
    "play_obj.wait_done()  # Wait until sound has finished playing"
   ]
  },
  {
   "cell_type": "code",
   "execution_count": 134,
   "id": "b6ae1a87",
   "metadata": {},
   "outputs": [],
   "source": [
    "sample_rate, signal = read_wav(filename)\n",
    "sample_rate_noise, signal_noise = add_noise(sample_rate, signal, noise_ratio=0.4)\n",
    "write(\"example_noise.wav\", sample_rate_noise, signal_noise.astype(np.int16))"
   ]
  },
  {
   "cell_type": "markdown",
   "id": "3b2fcd7a",
   "metadata": {},
   "source": [
    "With noise_ratio > 5 if difficult for the human to hear the word "
   ]
  },
  {
   "cell_type": "code",
   "execution_count": 139,
   "id": "80fcc467",
   "metadata": {},
   "outputs": [],
   "source": [
    "wave_obj = sa.WaveObject.from_wave_file('example_noise.wav')\n",
    "play_obj = wave_obj.play()\n",
    "play_obj.wait_done()  # Wait until sound has finished playing"
   ]
  },
  {
   "cell_type": "code",
   "execution_count": null,
   "id": "eaa5b641",
   "metadata": {},
   "outputs": [],
   "source": []
  }
 ],
 "metadata": {
  "kernelspec": {
   "display_name": "Python 3",
   "language": "python",
   "name": "python3"
  },
  "language_info": {
   "codemirror_mode": {
    "name": "ipython",
    "version": 3
   },
   "file_extension": ".py",
   "mimetype": "text/x-python",
   "name": "python",
   "nbconvert_exporter": "python",
   "pygments_lexer": "ipython3",
   "version": "3.8.6"
  }
 },
 "nbformat": 4,
 "nbformat_minor": 5
}
