{
 "cells": [
  {
   "cell_type": "code",
   "execution_count": 53,
   "id": "108d1fc3",
   "metadata": {},
   "outputs": [],
   "source": [
    "import pickle\n",
    "import simpleaudio as sa\n",
    "from keyword_spotting.feature_extraction.utils import read_wav\n",
    "import numpy as np\n",
    "from scipy.io.wavfile import write"
   ]
  },
  {
   "cell_type": "code",
   "execution_count": 103,
   "id": "92bc7956",
   "metadata": {},
   "outputs": [],
   "source": [
    "def add_noise(sample_rate, signal, noise_ratio=0.4):\n",
    "    noise_path = (\n",
    "        \"/Users/emi/unipd/hda/dataset/_background_noise_/\" + np.random.choice(noise_files)\n",
    "    )\n",
    "    fs, data_noise = read_wav(noise_path)\n",
    "    min_length = min(data_noise.shape[0], signal.shape[0])\n",
    "    signal[:min_length] = signal[:min_length] + noise_ratio*data_noise[:min_length]\n",
    "    return sample_rate, signal\n",
    "\n",
    "noise_files = [\n",
    "    \"doing_the_dishes.wav\",\n",
    "    \"dude_miaowing.wav\",\n",
    "    \"exercise_bike.wav\",\n",
    "    \"pink_noise.wav\",\n",
    "    \"running_tap.wav\",\n",
    "    \"white_noise.wav\",\n",
    "]"
   ]
  },
  {
   "cell_type": "code",
   "execution_count": 4,
   "id": "b661cc9d",
   "metadata": {},
   "outputs": [],
   "source": [
    "with open('/Users/emi/unipd/hda/dataset/X_train.pickle', 'rb') as file:\n",
    "    wavs = pickle.load(file)"
   ]
  },
  {
   "cell_type": "code",
   "execution_count": 5,
   "id": "aa21ec39",
   "metadata": {},
   "outputs": [
    {
     "data": {
      "text/plain": [
       "35967"
      ]
     },
     "execution_count": 5,
     "metadata": {},
     "output_type": "execute_result"
    }
   ],
   "source": [
    "len(wavs)"
   ]
  },
  {
   "cell_type": "code",
   "execution_count": 9,
   "id": "5da85c7c",
   "metadata": {},
   "outputs": [
    {
     "data": {
      "text/plain": [
       "'unknown/0585b66d_nohash_1.wav'"
      ]
     },
     "execution_count": 9,
     "metadata": {},
     "output_type": "execute_result"
    }
   ],
   "source": [
    "wavs[0]"
   ]
  },
  {
   "cell_type": "code",
   "execution_count": 121,
   "id": "4d6d164d",
   "metadata": {},
   "outputs": [],
   "source": [
    "filename = f'/Users/emi/unipd/hda/dataset/{wavs[0]}'\n",
    "wave_obj = sa.WaveObject.from_wave_file(filename)\n",
    "play_obj = wave_obj.play()\n",
    "play_obj.wait_done()  # Wait until sound has finished playing"
   ]
  },
  {
   "cell_type": "code",
   "execution_count": 134,
   "id": "81bb5da0",
   "metadata": {},
   "outputs": [],
   "source": [
    "sample_rate, signal = read_wav(filename)\n",
    "sample_rate_noise, signal_noise = add_noise(sample_rate, signal, noise_ratio=0.4)\n",
    "write(\"example_noise.wav\", sample_rate_noise, signal_noise.astype(np.int16))"
   ]
  },
  {
   "cell_type": "markdown",
   "id": "b70d1b6c",
   "metadata": {},
   "source": [
    "With noise_ratio > 5 if difficult for the human to hear the word "
   ]
  },
  {
   "cell_type": "code",
   "execution_count": 139,
   "id": "4f1ac718",
   "metadata": {},
   "outputs": [],
   "source": [
    "wave_obj = sa.WaveObject.from_wave_file('example_noise.wav')\n",
    "play_obj = wave_obj.play()\n",
    "play_obj.wait_done()  # Wait until sound has finished playing"
   ]
  },
  {
   "cell_type": "code",
   "execution_count": null,
   "id": "366b6746",
   "metadata": {},
   "outputs": [],
   "source": []
  }
 ],
 "metadata": {
  "kernelspec": {
   "display_name": "Python 3",
   "language": "python",
   "name": "python3"
  },
  "language_info": {
   "codemirror_mode": {
    "name": "ipython",
    "version": 3
   },
   "file_extension": ".py",
   "mimetype": "text/x-python",
   "name": "python",
   "nbconvert_exporter": "python",
   "pygments_lexer": "ipython3",
   "version": "3.8.10"
  }
 },
 "nbformat": 4,
 "nbformat_minor": 5
}
